{
 "cells": [
  {
   "cell_type": "code",
   "execution_count": 1,
   "id": "37097ac6-a6ca-4698-af7c-43c59f8f3f0e",
   "metadata": {},
   "outputs": [],
   "source": [
    "import pandas as pd\n",
    "import numpy as np\n",
    "import torch\n",
    "import pickle\n",
    "import matplotlib.pyplot as plt\n",
    "\n",
    "from tqdm import tqdm\n",
    "from sentence_transformers import SentenceTransformer\n",
    "from sklearn.metrics.pairwise import cosine_similarity\n",
    "from empath import Empath"
   ]
  },
  {
   "cell_type": "code",
   "execution_count": 2,
   "id": "fdb53989-0d17-4bd0-8de5-f069101ad239",
   "metadata": {},
   "outputs": [
    {
     "data": {
      "text/plain": [
       "'cuda'"
      ]
     },
     "execution_count": 2,
     "metadata": {},
     "output_type": "execute_result"
    }
   ],
   "source": [
    "# Check if GPU is available\n",
    "'cuda' if torch.cuda.is_available() else 'cpu'"
   ]
  },
  {
   "cell_type": "code",
   "execution_count": 3,
   "id": "22548a6b-4595-465b-be47-82308c2e48c6",
   "metadata": {},
   "outputs": [],
   "source": [
    "# Load your data\n",
    "file_path = 'C:/Users/fahad/OneDrive - Oulun yliopisto/Documents/suomi24/Data/suomi24-processed.csv'\n",
    "df = pd.read_csv(file_path)\n",
    "\n",
    "# Define the hypotheses and encode them\n",
    "hypotheses = [\n",
    "    \"Personal experiences with surveillance cameras significantly shape people's views on public monitoring.\",\n",
    "    \"Attitudes toward surveillance cameras vary significantly depending on their placement in different settings, such as shopping areas, residential blocks, and workplaces.\",\n",
    "    \"There are common technical complaints about surveillance cameras, and people suggest specific enhancements to address these issues.\",\n",
    "    \"Surveillance cameras make people feel more secure rather than feeling watched.\",\n",
    "    \"There is a noticeable relationship between the density of surveillance cameras in an area and public opinion regarding their presence.\"\n",
    "]"
   ]
  },
  {
   "cell_type": "code",
   "execution_count": 8,
   "id": "1998f77e-64cf-45bd-9acd-3cd50d5a28fd",
   "metadata": {},
   "outputs": [
    {
     "name": "stderr",
     "output_type": "stream",
     "text": [
      "You try to use a model that was created with version 2.7.0.dev0, however, your version is 2.7.0. This might cause unexpected behavior or errors. In that case, try to update to the latest version.\n",
      "\n",
      "\n",
      "\n",
      "C:\\Users\\fahad\\AppData\\Roaming\\Python\\Python311\\site-packages\\huggingface_hub\\file_download.py:1132: FutureWarning: `resume_download` is deprecated and will be removed in version 1.0.0. Downloads always resume when possible. If you want to force a new download, use `force_download=True`.\n",
      "  warnings.warn(\n"
     ]
    }
   ],
   "source": [
    "device = 'cuda' if torch.cuda.is_available() else 'cpu'\n",
    "\n",
    "# Load the SentenceTransformer model and send it to the device\n",
    "model = SentenceTransformer(\"Snowflake/snowflake-arctic-embed-s\").to(device)\n",
    "hypothesis_embeddings = model.encode(hypotheses, convert_to_tensor=True, device=device).cpu()\n",
    "\n",
    "# Save hypothesis embeddings\n",
    "with open('C:/Users/fahad/OneDrive - Oulun yliopisto/Documents/suomi24/models/hypothesis-embeddings.pkl', 'wb') as f:\n",
    "    torch.save(hypothesis_embeddings, f)"
   ]
  },
  {
   "cell_type": "code",
   "execution_count": 5,
   "id": "6a8bfed6-69ff-4e30-aaf3-a1ff39c2ea0b",
   "metadata": {},
   "outputs": [],
   "source": [
    "# Load saved embeddings\n",
    "hypothesis_embeddings = torch.load('C:/Users/fahad/OneDrive - Oulun yliopisto/Documents/suomi24/models/hypothesis-embeddings.pkl')"
   ]
  },
  {
   "cell_type": "code",
   "execution_count": 4,
   "id": "fea428b3",
   "metadata": {},
   "outputs": [],
   "source": [
    "column = 'thread_text_processed'"
   ]
  },
  {
   "cell_type": "code",
   "execution_count": 12,
   "id": "76f3ba6a-a24b-46e0-a7dd-3f256db998e0",
   "metadata": {},
   "outputs": [
    {
     "name": "stderr",
     "output_type": "stream",
     "text": [
      "You try to use a model that was created with version 2.7.0.dev0, however, your version is 2.7.0. This might cause unexpected behavior or errors. In that case, try to update to the latest version.\n",
      "\n",
      "\n",
      "\n",
      "C:\\Users\\fahad\\AppData\\Roaming\\Python\\Python311\\site-packages\\huggingface_hub\\file_download.py:1132: FutureWarning: `resume_download` is deprecated and will be removed in version 1.0.0. Downloads always resume when possible. If you want to force a new download, use `force_download=True`.\n",
      "  warnings.warn(\n",
      "Processing batches: 100%|██████████| 22/22 [2:37:58<00:00, 430.85s/it]  \n"
     ]
    }
   ],
   "source": [
    "texts = df[column].tolist()\n",
    "\n",
    "# Generate embeddings in batches\n",
    "batch_size = 10000\n",
    "embeddings = []\n",
    "\n",
    "device = 'cuda' if torch.cuda.is_available() else 'cpu'\n",
    "# Load the SentenceTransformer model and send it to the device\n",
    "model = SentenceTransformer(\"Snowflake/snowflake-arctic-embed-s\").to(device)\n",
    "\n",
    "for i in tqdm(range(0, len(texts), batch_size), desc=\"Processing batches\"):\n",
    "    batch_texts = texts[i:i + batch_size]\n",
    "    batch_embeddings = model.encode(batch_texts, convert_to_tensor=True, device=device).cpu()\n",
    "    embeddings.append(batch_embeddings)\n",
    "\n",
    "# Concatenate all batches\n",
    "embeddings = torch.cat(embeddings, dim=0)\n",
    "\n",
    "# Save text embeddings\n",
    "with open(f'C:/Users/fahad/OneDrive - Oulun yliopisto/Documents/suomi24/models/{column}-embeddings.pkl', 'wb') as f:\n",
    "    torch.save(embeddings, f)"
   ]
  },
  {
   "cell_type": "code",
   "execution_count": 8,
   "id": "1f00277b-2b7c-4c58-8f1a-89828cec5859",
   "metadata": {},
   "outputs": [],
   "source": [
    "# Load saved embeddings\n",
    "embeddings = torch.load(f'C:/Users/fahad/OneDrive - Oulun yliopisto/Documents/suomi24/models/{column}-embeddings.pkl')"
   ]
  },
  {
   "cell_type": "code",
   "execution_count": 5,
   "id": "e4739e1d",
   "metadata": {},
   "outputs": [],
   "source": [
    "# Initialize Empath\n",
    "empath = Empath()\n",
    "# Function to calculate empath categories\n",
    "def get_empath_categories(text):\n",
    "    categories = empath.analyze(text)\n",
    "    return np.array([categories[cat] for cat in empath.cats.keys()])"
   ]
  },
  {
   "cell_type": "code",
   "execution_count": 6,
   "id": "07a24c46",
   "metadata": {},
   "outputs": [],
   "source": [
    "# Calculate empath embeddings for hypotheses\n",
    "hypothesis_empath_embeddings = np.array([get_empath_categories(hypothesis) for hypothesis in hypotheses])\n",
    "\n",
    "# Save hypothesis empath embeddings\n",
    "with open('C:/Users/fahad/OneDrive - Oulun yliopisto/Documents/suomi24/models/hypothesis_empath_embeddings.pkl', 'wb') as f:\n",
    "    pickle.dump(hypothesis_empath_embeddings, f)"
   ]
  },
  {
   "cell_type": "code",
   "execution_count": 7,
   "id": "21eb0a47",
   "metadata": {},
   "outputs": [
    {
     "name": "stderr",
     "output_type": "stream",
     "text": [
      "Processing Empath Embeddings: 100%|██████████| 218001/218001 [26:32<00:00, 136.88it/s]\n"
     ]
    }
   ],
   "source": [
    "# Calculate empath embeddings for the dataset\n",
    "empath_embeddings = []\n",
    "tqdm.pandas(desc=\"Processing Empath Embeddings\")\n",
    "for empath_embedding in df['thread_text_processed'].progress_apply(lambda x: get_empath_categories(x)):\n",
    "    empath_embeddings.append(empath_embedding)\n",
    "\n",
    "# Save the empath embeddings to a file\n",
    "with open(f'C:/Users/fahad/OneDrive - Oulun yliopisto/Documents/suomi24/models/{column}-empath_embeddings.pkl', 'wb') as f:\n",
    "    pickle.dump(empath_embeddings, f)"
   ]
  },
  {
   "cell_type": "code",
   "execution_count": null,
   "id": "7a5b618b",
   "metadata": {},
   "outputs": [],
   "source": [
    "# Load saved embeddings\n",
    "hypothesis_empath_embeddings = torch.load(f'C:/Users/fahad/OneDrive - Oulun yliopisto/Documents/suomi24/models/hypothesis_empath_embeddings.pkl')\n",
    "\n",
    "empath_embeddings = torch.load(f'C:/Users/fahad/OneDrive - Oulun yliopisto/Documents/suomi24/models/{column}-empath_embeddings.pkl')"
   ]
  },
  {
   "cell_type": "code",
   "execution_count": 13,
   "id": "9a0acfa4",
   "metadata": {},
   "outputs": [],
   "source": [
    "# Function to assign hypothesis based on both text and empath embeddings\n",
    "def assign_hypothesis(text_embedding, empath_embedding, margin=0.03):\n",
    "    text_similarities = cosine_similarity([text_embedding], hypothesis_embeddings).flatten()\n",
    "    sorted_similarities = np.sort(text_similarities)[::-1]\n",
    "    \n",
    "    if sorted_similarities[0] - sorted_similarities[1] <= margin:\n",
    "        empath_similarities = cosine_similarity([empath_embedding], hypothesis_empath_embeddings).flatten()\n",
    "        combined_similarities = (text_similarities + empath_similarities) / 2\n",
    "        return np.argmax(combined_similarities)\n",
    "    return np.argmax(text_similarities)"
   ]
  },
  {
   "cell_type": "code",
   "execution_count": 21,
   "id": "be6f47fa",
   "metadata": {},
   "outputs": [
    {
     "name": "stderr",
     "output_type": "stream",
     "text": [
      "100%|██████████| 218001/218001 [02:29<00:00, 1462.88it/s]\n"
     ]
    }
   ],
   "source": [
    "# Assign hypotheses\n",
    "tqdm.pandas(desc=\"Assigning Hypotheses\")\n",
    "hypothesis_labels = {i: f'H{i}' for i in range(len(hypotheses))}\n",
    "df['hypothesis'] = [hypothesis_labels[assign_hypothesis(embeddings[i], empath_embeddings[i])] for i in tqdm(range(len(embeddings)))]\n"
   ]
  },
  {
   "cell_type": "code",
   "execution_count": 22,
   "id": "d114e354",
   "metadata": {},
   "outputs": [
    {
     "data": {
      "text/html": [
       "<div>\n",
       "<style scoped>\n",
       "    .dataframe tbody tr th:only-of-type {\n",
       "        vertical-align: middle;\n",
       "    }\n",
       "\n",
       "    .dataframe tbody tr th {\n",
       "        vertical-align: top;\n",
       "    }\n",
       "\n",
       "    .dataframe thead th {\n",
       "        text-align: right;\n",
       "    }\n",
       "</style>\n",
       "<table border=\"1\" class=\"dataframe\">\n",
       "  <thead>\n",
       "    <tr style=\"text-align: right;\">\n",
       "      <th></th>\n",
       "      <th>msg_type</th>\n",
       "      <th>datetime</th>\n",
       "      <th>title</th>\n",
       "      <th>thread_id</th>\n",
       "      <th>comment_id</th>\n",
       "      <th>topic_name_top</th>\n",
       "      <th>topic_name_leaf</th>\n",
       "      <th>thread_text</th>\n",
       "      <th>title_processed</th>\n",
       "      <th>thread_text_processed</th>\n",
       "      <th>combined_processed</th>\n",
       "      <th>hypothesis</th>\n",
       "    </tr>\n",
       "  </thead>\n",
       "  <tbody>\n",
       "    <tr>\n",
       "      <th>0</th>\n",
       "      <td>thread_start</td>\n",
       "      <td>10/21/2008 15:10</td>\n",
       "      <td>2008</td>\n",
       "      <td>6382354</td>\n",
       "      <td>0</td>\n",
       "      <td>Groups</td>\n",
       "      <td>40 plus</td>\n",
       "      <td>but despised and questioned yes. 2008 Well, we...</td>\n",
       "      <td>NaN</td>\n",
       "      <td>but despised and questioned yes  well we thoug...</td>\n",
       "      <td>but despised and questioned yes  well we thou...</td>\n",
       "      <td>H2</td>\n",
       "    </tr>\n",
       "    <tr>\n",
       "      <th>1</th>\n",
       "      <td>comment</td>\n",
       "      <td>10/21/2008 16:34</td>\n",
       "      <td>2008</td>\n",
       "      <td>6382354</td>\n",
       "      <td>33460404</td>\n",
       "      <td>Groups</td>\n",
       "      <td>40 plus</td>\n",
       "      <td>Orwell was a seer. In '84 the world didn't exa...</td>\n",
       "      <td>NaN</td>\n",
       "      <td>orwell was a seer in  the world did not exactl...</td>\n",
       "      <td>orwell was a seer in  the world did not exact...</td>\n",
       "      <td>H4</td>\n",
       "    </tr>\n",
       "    <tr>\n",
       "      <th>2</th>\n",
       "      <td>comment</td>\n",
       "      <td>3/19/2016 9:40</td>\n",
       "      <td>- I don't know. - What's the payoff?</td>\n",
       "      <td>14185813</td>\n",
       "      <td>83782764</td>\n",
       "      <td>Hobbies</td>\n",
       "      <td>Electronics</td>\n",
       "      <td>which did not protect the car owner from the r...</td>\n",
       "      <td>i do not know  what is the payoff</td>\n",
       "      <td>which did not protect the car owner from the r...</td>\n",
       "      <td>i do not know  what is the payoff which did n...</td>\n",
       "      <td>H1</td>\n",
       "    </tr>\n",
       "    <tr>\n",
       "      <th>3</th>\n",
       "      <td>comment</td>\n",
       "      <td>3/25/2016 23:48</td>\n",
       "      <td>- I don't know. - What's the payoff?</td>\n",
       "      <td>14185813</td>\n",
       "      <td>83896363</td>\n",
       "      <td>Hobbies</td>\n",
       "      <td>Electronics</td>\n",
       "      <td>the cashier will have a \"card reported as miss...</td>\n",
       "      <td>i do not know  what is the payoff</td>\n",
       "      <td>the cashier will have a card reported as missi...</td>\n",
       "      <td>i do not know  what is the payoff the cashier...</td>\n",
       "      <td>H2</td>\n",
       "    </tr>\n",
       "    <tr>\n",
       "      <th>4</th>\n",
       "      <td>comment</td>\n",
       "      <td>4/11/2016 23:06</td>\n",
       "      <td>- I don't know. - What's the payoff?</td>\n",
       "      <td>14185813</td>\n",
       "      <td>84156873</td>\n",
       "      <td>Hobbies</td>\n",
       "      <td>Electronics</td>\n",
       "      <td>but do those only Mastercard Kredit cards with...</td>\n",
       "      <td>i do not know  what is the payoff</td>\n",
       "      <td>but do those only mastercard kredit cards with...</td>\n",
       "      <td>i do not know  what is the payoff but do thos...</td>\n",
       "      <td>H1</td>\n",
       "    </tr>\n",
       "    <tr>\n",
       "      <th>...</th>\n",
       "      <td>...</td>\n",
       "      <td>...</td>\n",
       "      <td>...</td>\n",
       "      <td>...</td>\n",
       "      <td>...</td>\n",
       "      <td>...</td>\n",
       "      <td>...</td>\n",
       "      <td>...</td>\n",
       "      <td>...</td>\n",
       "      <td>...</td>\n",
       "      <td>...</td>\n",
       "      <td>...</td>\n",
       "    </tr>\n",
       "    <tr>\n",
       "      <th>217996</th>\n",
       "      <td>comment</td>\n",
       "      <td>3/16/2013 11:54</td>\n",
       "      <td>Localities</td>\n",
       "      <td>11340784</td>\n",
       "      <td>60550054</td>\n",
       "      <td>Localities</td>\n",
       "      <td>Nickel</td>\n",
       "      <td>thank you. Who could make it happen? Camera St...</td>\n",
       "      <td>localities</td>\n",
       "      <td>thank you who could make it happen camera stel...</td>\n",
       "      <td>localities thank you who could make it happen ...</td>\n",
       "      <td>H2</td>\n",
       "    </tr>\n",
       "    <tr>\n",
       "      <th>217997</th>\n",
       "      <td>comment</td>\n",
       "      <td>1/16/2015 15:03</td>\n",
       "      <td>Vehicles and transport</td>\n",
       "      <td>13305552</td>\n",
       "      <td>77069109</td>\n",
       "      <td>Vehicles and transport</td>\n",
       "      <td>Public transport</td>\n",
       "      <td>This rave junta now put the lives of possibly ...</td>\n",
       "      <td>vehicles and transport</td>\n",
       "      <td>this rave junta now put the lives of possibly ...</td>\n",
       "      <td>vehicles and transport this rave junta now put...</td>\n",
       "      <td>H0</td>\n",
       "    </tr>\n",
       "    <tr>\n",
       "      <th>217998</th>\n",
       "      <td>comment</td>\n",
       "      <td>3/18/2013 13:55</td>\n",
       "      <td>Localities</td>\n",
       "      <td>11340784</td>\n",
       "      <td>60588127</td>\n",
       "      <td>Localities</td>\n",
       "      <td>Nickel</td>\n",
       "      <td>It would be nice to see what's going on there ...</td>\n",
       "      <td>localities</td>\n",
       "      <td>it would be nice to see what is going on there...</td>\n",
       "      <td>localities it would be nice to see what is goi...</td>\n",
       "      <td>H4</td>\n",
       "    </tr>\n",
       "    <tr>\n",
       "      <th>217999</th>\n",
       "      <td>comment</td>\n",
       "      <td>3/30/2006 8:55</td>\n",
       "      <td>Localities</td>\n",
       "      <td>2778360</td>\n",
       "      <td>14276358</td>\n",
       "      <td>Localities</td>\n",
       "      <td>Rovaniemi</td>\n",
       "      <td>did not prevent our table from stealing. Its a...</td>\n",
       "      <td>localities</td>\n",
       "      <td>did not prevent our table from stealing its a ...</td>\n",
       "      <td>localities did not prevent our table from stea...</td>\n",
       "      <td>H0</td>\n",
       "    </tr>\n",
       "    <tr>\n",
       "      <th>218000</th>\n",
       "      <td>comment</td>\n",
       "      <td>1/23/2015 23:59</td>\n",
       "      <td>Vehicles and transport</td>\n",
       "      <td>13305552</td>\n",
       "      <td>77526327</td>\n",
       "      <td>Vehicles and transport</td>\n",
       "      <td>Public transport</td>\n",
       "      <td>For Reiman Reindeerella all over 60 km per hou...</td>\n",
       "      <td>vehicles and transport</td>\n",
       "      <td>for reiman reindeerella all over  km per hour ...</td>\n",
       "      <td>vehicles and transport for reiman reindeerella...</td>\n",
       "      <td>H2</td>\n",
       "    </tr>\n",
       "  </tbody>\n",
       "</table>\n",
       "<p>218001 rows × 12 columns</p>\n",
       "</div>"
      ],
      "text/plain": [
       "            msg_type          datetime                                 title  \\\n",
       "0       thread_start  10/21/2008 15:10                                  2008   \n",
       "1            comment  10/21/2008 16:34                                  2008   \n",
       "2            comment    3/19/2016 9:40  - I don't know. - What's the payoff?   \n",
       "3            comment   3/25/2016 23:48  - I don't know. - What's the payoff?   \n",
       "4            comment   4/11/2016 23:06  - I don't know. - What's the payoff?   \n",
       "...              ...               ...                                   ...   \n",
       "217996       comment   3/16/2013 11:54                            Localities   \n",
       "217997       comment   1/16/2015 15:03                Vehicles and transport   \n",
       "217998       comment   3/18/2013 13:55                            Localities   \n",
       "217999       comment    3/30/2006 8:55                            Localities   \n",
       "218000       comment   1/23/2015 23:59                Vehicles and transport   \n",
       "\n",
       "        thread_id  comment_id          topic_name_top   topic_name_leaf  \\\n",
       "0         6382354           0                  Groups           40 plus   \n",
       "1         6382354    33460404                  Groups           40 plus   \n",
       "2        14185813    83782764                 Hobbies       Electronics   \n",
       "3        14185813    83896363                 Hobbies       Electronics   \n",
       "4        14185813    84156873                 Hobbies       Electronics   \n",
       "...           ...         ...                     ...               ...   \n",
       "217996   11340784    60550054              Localities            Nickel   \n",
       "217997   13305552    77069109  Vehicles and transport  Public transport   \n",
       "217998   11340784    60588127              Localities            Nickel   \n",
       "217999    2778360    14276358              Localities         Rovaniemi   \n",
       "218000   13305552    77526327  Vehicles and transport  Public transport   \n",
       "\n",
       "                                              thread_text  \\\n",
       "0       but despised and questioned yes. 2008 Well, we...   \n",
       "1       Orwell was a seer. In '84 the world didn't exa...   \n",
       "2       which did not protect the car owner from the r...   \n",
       "3       the cashier will have a \"card reported as miss...   \n",
       "4       but do those only Mastercard Kredit cards with...   \n",
       "...                                                   ...   \n",
       "217996  thank you. Who could make it happen? Camera St...   \n",
       "217997  This rave junta now put the lives of possibly ...   \n",
       "217998  It would be nice to see what's going on there ...   \n",
       "217999  did not prevent our table from stealing. Its a...   \n",
       "218000  For Reiman Reindeerella all over 60 km per hou...   \n",
       "\n",
       "                           title_processed  \\\n",
       "0                                      NaN   \n",
       "1                                      NaN   \n",
       "2        i do not know  what is the payoff   \n",
       "3        i do not know  what is the payoff   \n",
       "4        i do not know  what is the payoff   \n",
       "...                                    ...   \n",
       "217996                          localities   \n",
       "217997              vehicles and transport   \n",
       "217998                          localities   \n",
       "217999                          localities   \n",
       "218000              vehicles and transport   \n",
       "\n",
       "                                    thread_text_processed  \\\n",
       "0       but despised and questioned yes  well we thoug...   \n",
       "1       orwell was a seer in  the world did not exactl...   \n",
       "2       which did not protect the car owner from the r...   \n",
       "3       the cashier will have a card reported as missi...   \n",
       "4       but do those only mastercard kredit cards with...   \n",
       "...                                                   ...   \n",
       "217996  thank you who could make it happen camera stel...   \n",
       "217997  this rave junta now put the lives of possibly ...   \n",
       "217998  it would be nice to see what is going on there...   \n",
       "217999  did not prevent our table from stealing its a ...   \n",
       "218000  for reiman reindeerella all over  km per hour ...   \n",
       "\n",
       "                                       combined_processed hypothesis  \n",
       "0        but despised and questioned yes  well we thou...         H2  \n",
       "1        orwell was a seer in  the world did not exact...         H4  \n",
       "2        i do not know  what is the payoff which did n...         H1  \n",
       "3        i do not know  what is the payoff the cashier...         H2  \n",
       "4        i do not know  what is the payoff but do thos...         H1  \n",
       "...                                                   ...        ...  \n",
       "217996  localities thank you who could make it happen ...         H2  \n",
       "217997  vehicles and transport this rave junta now put...         H0  \n",
       "217998  localities it would be nice to see what is goi...         H4  \n",
       "217999  localities did not prevent our table from stea...         H0  \n",
       "218000  vehicles and transport for reiman reindeerella...         H2  \n",
       "\n",
       "[218001 rows x 12 columns]"
      ]
     },
     "execution_count": 22,
     "metadata": {},
     "output_type": "execute_result"
    }
   ],
   "source": [
    "df"
   ]
  },
  {
   "cell_type": "code",
   "execution_count": 24,
   "id": "41c77715-4b10-4bb7-81e4-b25ef0bdefb2",
   "metadata": {},
   "outputs": [
    {
     "name": "stdout",
     "output_type": "stream",
     "text": [
      "hypothesis\n",
      "H2    74096\n",
      "H4    44428\n",
      "H3    41100\n",
      "H1    36431\n",
      "H0    21946\n",
      "Name: count, dtype: int64\n"
     ]
    },
    {
     "data": {
      "image/png": "[encoded data removed]",
      "text/plain": [
       "<Figure size 600x400 with 1 Axes>"
      ]
     },
     "metadata": {},
     "output_type": "display_data"
    }
   ],
   "source": [
    "# Optional: Display a histogram of the assigned hypotheses\n",
    "print(df['hypothesis'].value_counts())\n",
    "df['hypothesis'].value_counts().plot(kind='bar', figsize=(6,4))\n",
    "plt.title('Distribution of thread_text Hypothesis Assignments')\n",
    "plt.xlabel('thread_text_hypothesis')\n",
    "plt.ylabel('Frequency')\n",
    "plt.show()"
   ]
  },
  {
   "cell_type": "code",
   "execution_count": 23,
   "id": "0db538e6-5c19-44db-9a59-1e667abcee84",
   "metadata": {},
   "outputs": [],
   "source": [
    "# Save the DataFrame with the hypothesis mapping\n",
    "df.to_csv('C:/Users/fahad/OneDrive - Oulun yliopisto/Documents/suomi24/Data/suomi24_with_hypotheses.csv', index=False)"
   ]
  },
  {
   "cell_type": "code",
   "execution_count": null,
   "id": "a40941ad-bde2-43dc-9f63-46f58307c4e6",
   "metadata": {},
   "outputs": [],
   "source": [
    "# H0: Personal experiences with surveillance cameras significantly shape people's views on public monitoring.\n",
    "# H1: Attitudes toward surveillance cameras vary significantly depending on their placement in different settings, such as shopping areas, residential blocks, and workplaces.\n",
    "# H2: There are common technical complaints about surveillance cameras, and people suggest specific enhancements to address these issues.\n",
    "# H3: Surveillance cameras make people feel more secure rather than feeling watched.\n",
    "# H4: There is a noticeable relationship between the density of surveillance cameras in an area and public opinion regarding their presence."
   ]
  }
 ],
 "metadata": {
  "kernelspec": {
   "display_name": "Python 3 (ipykernel)",
   "language": "python",
   "name": "python3"
  },
  "language_info": {
   "codemirror_mode": {
    "name": "ipython",
    "version": 3
   },
   "file_extension": ".py",
   "mimetype": "text/x-python",
   "name": "python",
   "nbconvert_exporter": "python",
   "pygments_lexer": "ipython3",
   "version": "3.12.3"
  }
 },
 "nbformat": 4,
 "nbformat_minor": 5
}
